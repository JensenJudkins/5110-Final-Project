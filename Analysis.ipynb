{
 "cells": [
  {
   "cell_type": "code",
   "execution_count": null,
   "metadata": {},
   "outputs": [],
   "source": [
    "#Imports\n",
    "import pandas as pd\n",
    "import numpy as np\n",
    "import matplotlib.pyplot as plt"
   ]
  },
  {
   "cell_type": "code",
   "execution_count": null,
   "metadata": {},
   "outputs": [],
   "source": [
    "#Read in the good guys csv file\n",
    "good_guys = pd.read_csv('good_guy_results.csv')\n",
    "bad_guys = pd.read_csv('bad_guy_results.csv')\n",
    "\n",
    "print(good_guys.head())\n",
    "print(bad_guys.head())\n",
    "\n",
    "good_guys.columns\n"
   ]
  },
  {
   "cell_type": "code",
   "execution_count": null,
   "metadata": {},
   "outputs": [],
   "source": [
    "#Count the number of good guys using each strategy\n",
    "good_guys['Strategy'].value_counts()\n",
    "\n",
    "#Count the number of bad guys using each strategy\n",
    "bad_guys['Strategy'].value_counts()\n",
    "\n",
    "#Plot the number of good guys using each strategy\n",
    "good_guys['Strategy'].value_counts().plot(kind='bar')\n",
    "plt.title('Good Guys Strategy')\n",
    "plt.xlabel('Strategy')\n",
    "plt.ylabel('Number of Good Guys')\n",
    "plt.show()\n",
    "\n",
    "#Plot the number of bad guys using each strategy\n",
    "bad_guys['Strategy'].value_counts().plot(kind='bar')\n",
    "plt.title('Bad Guys Strategy')\n",
    "plt.xlabel('Strategy')\n",
    "plt.ylabel('Number of Bad Guys')\n",
    "plt.show()\n",
    "\n"
   ]
  },
  {
   "cell_type": "code",
   "execution_count": null,
   "metadata": {},
   "outputs": [],
   "source": [
    "#Using the good guy 'Strategy' column, find the strategy that results in the highest average 'Bank'\n",
    "print(good_guys.groupby('Strategy')['Bank'].mean().sort_values(ascending=False))\n",
    "\n",
    "#Using the bad guy 'Strategy' column, find the strategy that results in the highest average 'Bank'\n",
    "print(bad_guys.groupby('Strategy')['Bank'].mean().sort_values(ascending=False))\n"
   ]
  },
  {
   "cell_type": "code",
   "execution_count": null,
   "metadata": {},
   "outputs": [],
   "source": [
    "#Graph most successful good guy strategies and their average bank\n",
    "good_guys.groupby('Strategy')['Bank'].mean().sort_values(ascending=False).plot(kind='bar', title='Good Guy Strategies and Average Bank')\n",
    "plt.show()\n",
    "\n",
    "#Graph most successful bad guy strategies and their average bank\n",
    "bad_guys.groupby('Strategy')['Bank'].mean().sort_values(ascending=False).plot(kind='bar', title='Bad Guy Strategies and Average Bank')\n",
    "plt.show()\n"
   ]
  }
 ],
 "metadata": {
  "kernelspec": {
   "display_name": "Python 3",
   "language": "python",
   "name": "python3"
  },
  "language_info": {
   "codemirror_mode": {
    "name": "ipython",
    "version": 3
   },
   "file_extension": ".py",
   "mimetype": "text/x-python",
   "name": "python",
   "nbconvert_exporter": "python",
   "pygments_lexer": "ipython3",
   "version": "3.10.1"
  }
 },
 "nbformat": 4,
 "nbformat_minor": 2
}
